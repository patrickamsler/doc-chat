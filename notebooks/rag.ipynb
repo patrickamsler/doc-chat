{
 "cells": [
  {
   "metadata": {
    "ExecuteTime": {
     "end_time": "2025-03-16T21:23:50.479590Z",
     "start_time": "2025-03-16T21:23:50.101651Z"
    }
   },
   "cell_type": "code",
   "source": [
    "import os\n",
    "import sys\n",
    "src_path = os.path.abspath(\"../src\")  # Adjust this relative path as needed\n",
    "sys.path.append(src_path)\n",
    "\n",
    "from rag.document_loader import DocumentLoader"
   ],
   "id": "82d9bd9c8ff121ec",
   "outputs": [],
   "execution_count": 1
  },
  {
   "metadata": {
    "ExecuteTime": {
     "end_time": "2025-03-16T21:24:25.413633Z",
     "start_time": "2025-03-16T21:23:50.483301Z"
    }
   },
   "cell_type": "code",
   "source": [
    "file_path = \"/Users/patrick/projects/doc-chat/data/pdf/The Hundred-Page Machine Learning Book.pdf\"\n",
    "doc_loader = DocumentLoader(file_path)\n",
    "documents, splits = doc_loader.load_and_split()\n",
    "print(\"Number of documents: \" + str(len(documents)))\n",
    "print(\"Number of splits: \" + str(len(splits)))"
   ],
   "id": "3ab4e21534ad9deb",
   "outputs": [
    {
     "name": "stdout",
     "output_type": "stream",
     "text": [
      "Number of documents: 152\n",
      "Number of splits: 385\n"
     ]
    }
   ],
   "execution_count": 2
  },
  {
   "metadata": {
    "ExecuteTime": {
     "end_time": "2025-03-16T21:24:25.472447Z",
     "start_time": "2025-03-16T21:24:25.469393Z"
    }
   },
   "cell_type": "code",
   "source": [
    "# document format\n",
    "documents[0]"
   ],
   "id": "2a891db20f76d3b7",
   "outputs": [
    {
     "data": {
      "text/plain": [
       "Document(metadata={'producer': '3-Heights(TM) PDF Optimization Shell 4.8.25.2 (http://www.pdf-tools.com)', 'creator': 'PyPDF', 'creationdate': '2018-12-18T05:07:46+00:00', 'moddate': '2019-01-22T19:51:34+00:00', 'source': '/Users/patrick/projects/doc-chat/data/pdf/The Hundred-Page Machine Learning Book.pdf', 'total_pages': 152, 'page': 0, 'page_label': '1'}, page_content='The\\nHundred-\\nPage\\nMachine\\nLearning\\nBook\\nAndriy Burkov')"
      ]
     },
     "execution_count": 3,
     "metadata": {},
     "output_type": "execute_result"
    }
   ],
   "execution_count": 3
  },
  {
   "metadata": {
    "ExecuteTime": {
     "end_time": "2025-03-16T21:24:25.478941Z",
     "start_time": "2025-03-16T21:24:25.476820Z"
    }
   },
   "cell_type": "code",
   "source": [
    "# print first 300 characters of the third page\n",
    "documents[2].page_content[:300]"
   ],
   "id": "70fe79e5cf5a314c",
   "outputs": [
    {
     "data": {
      "text/plain": [
       "'Preface\\nLet’s start by telling the truth: machines don’t learn. What a typical “learning machine”\\ndoes, is ﬁnding a mathematical formula, which, when applied to a collection of inputs (called\\n“training data”), produces the desired outputs. This mathematical formula also generates the\\ncorrect outputs'"
      ]
     },
     "execution_count": 4,
     "metadata": {},
     "output_type": "execute_result"
    }
   ],
   "execution_count": 4
  },
  {
   "metadata": {
    "ExecuteTime": {
     "end_time": "2025-03-16T21:24:25.498433Z",
     "start_time": "2025-03-16T21:24:25.496043Z"
    }
   },
   "cell_type": "code",
   "source": [
    "# split format\n",
    "splits[0]"
   ],
   "id": "63125bc673e1b99d",
   "outputs": [
    {
     "data": {
      "text/plain": [
       "Document(metadata={'producer': '3-Heights(TM) PDF Optimization Shell 4.8.25.2 (http://www.pdf-tools.com)', 'creator': 'PyPDF', 'creationdate': '2018-12-18T05:07:46+00:00', 'moddate': '2019-01-22T19:51:34+00:00', 'source': '/Users/patrick/projects/doc-chat/data/pdf/The Hundred-Page Machine Learning Book.pdf', 'total_pages': 152, 'page': 0, 'page_label': '1'}, page_content='The\\nHundred-\\nPage\\nMachine\\nLearning\\nBook\\nAndriy Burkov')"
      ]
     },
     "execution_count": 5,
     "metadata": {},
     "output_type": "execute_result"
    }
   ],
   "execution_count": 5
  },
  {
   "metadata": {
    "ExecuteTime": {
     "end_time": "2025-03-16T21:24:25.515705Z",
     "start_time": "2025-03-16T21:24:25.513159Z"
    }
   },
   "cell_type": "code",
   "source": "splits[2].page_content",
   "id": "1b6bafe36143cc5f",
   "outputs": [
    {
     "data": {
      "text/plain": [
       "'Preface\\nLet’s start by telling the truth: machines don’t learn. What a typical “learning machine”\\ndoes, is ﬁnding a mathematical formula, which, when applied to a collection of inputs (called\\n“training data”), produces the desired outputs. This mathematical formula also generates the\\ncorrect outputs for most other inputs (distinct from the training data) on the condition that\\nthose inputs come from the same or a similar statistical distribution as the one the training\\ndata was drawn from.\\nWhy isn’t that learning? Because if you slightly distort the inputs, the output is very likely\\nto become completely wrong. It’s not how learning in animals works. If you learned to play\\na video game by looking straight at the screen, you would still be a good player if someone\\nrotates the screen slightly. A machine learning algorithm, if it was trained by “looking”\\nstraight at the screen, unless it was also trained to recognize rotation, will fail to play the\\ngame on a rotated screen.'"
      ]
     },
     "execution_count": 6,
     "metadata": {},
     "output_type": "execute_result"
    }
   ],
   "execution_count": 6
  },
  {
   "metadata": {
    "ExecuteTime": {
     "end_time": "2025-03-16T21:24:25.526243Z",
     "start_time": "2025-03-16T21:24:25.523865Z"
    }
   },
   "cell_type": "code",
   "source": "splits[3].page_content",
   "id": "97e6d7cfa59bfe48",
   "outputs": [
    {
     "data": {
      "text/plain": [
       "'straight at the screen, unless it was also trained to recognize rotation, will fail to play the\\ngame on a rotated screen.\\nSo why the name “machine learning” then? The reason, as is often the case, is marketing:\\nArthur Samuel, an American pioneer in the ﬁeld of computer gaming and artiﬁcial intelligence,\\ncoined the term in 1959 while at IBM. Similarly to how in the 2010s IBM tried to market\\nthe term “cognitive computing” to stand out from competition, in the 1960s, IBM used the\\nnew cool term “machine learning” to attract both clients and talented employees.\\nAs you can see, just like artiﬁcial intelligence is not intelligence, machine learning is not\\nlearning. However, machine learning is a universally recognized term that usually refers\\nto the science and engineering of building machines capable of doing various useful things\\nwithout being explicitly programmed to do so. So, the word “learning” in the term is used\\nby analogy with the learning in animals rather than literally.'"
      ]
     },
     "execution_count": 7,
     "metadata": {},
     "output_type": "execute_result"
    }
   ],
   "execution_count": 7
  }
 ],
 "metadata": {
  "kernelspec": {
   "name": "python3",
   "language": "python",
   "display_name": "Python 3 (ipykernel)"
  }
 },
 "nbformat": 5,
 "nbformat_minor": 9
}
