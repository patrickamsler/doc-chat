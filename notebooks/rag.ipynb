{
 "cells": [
  {
   "metadata": {
    "ExecuteTime": {
     "end_time": "2025-03-17T19:43:31.881316Z",
     "start_time": "2025-03-17T19:43:31.066779Z"
    }
   },
   "cell_type": "code",
   "source": [
    "import os\n",
    "import sys\n",
    "from dotenv import load_dotenv, find_dotenv\n",
    "src_path = os.path.abspath(\"../src\")  # Adjust this relative path as needed\n",
    "sys.path.append(src_path)\n",
    "\n",
    "from rag.document_loader import DocumentLoader\n",
    "from rag.vector_store import VectorStore\n",
    "\n",
    "_ = load_dotenv(find_dotenv())"
   ],
   "id": "82d9bd9c8ff121ec",
   "outputs": [],
   "execution_count": 1
  },
  {
   "metadata": {
    "ExecuteTime": {
     "end_time": "2025-03-17T19:44:07.360581Z",
     "start_time": "2025-03-17T19:43:31.884671Z"
    }
   },
   "cell_type": "code",
   "source": [
    "file_path = \"/Users/patrick/projects/doc-chat/data/pdf/The Hundred-Page Machine Learning Book.pdf\"\n",
    "doc_loader = DocumentLoader(file_path)\n",
    "documents, splits = doc_loader.load_and_split()\n",
    "print(\"Number of documents: \" + str(len(documents)))\n",
    "print(\"Number of splits: \" + str(len(splits)))"
   ],
   "id": "3ab4e21534ad9deb",
   "outputs": [
    {
     "name": "stdout",
     "output_type": "stream",
     "text": [
      "Number of documents: 152\n",
      "Number of splits: 385\n"
     ]
    }
   ],
   "execution_count": 2
  },
  {
   "metadata": {
    "ExecuteTime": {
     "end_time": "2025-03-17T19:44:07.451628Z",
     "start_time": "2025-03-17T19:44:07.448505Z"
    }
   },
   "cell_type": "code",
   "source": [
    "# document format\n",
    "documents[0]"
   ],
   "id": "2a891db20f76d3b7",
   "outputs": [
    {
     "data": {
      "text/plain": [
       "Document(metadata={'producer': '3-Heights(TM) PDF Optimization Shell 4.8.25.2 (http://www.pdf-tools.com)', 'creator': 'PyPDF', 'creationdate': '2018-12-18T05:07:46+00:00', 'moddate': '2019-01-22T19:51:34+00:00', 'source': '/Users/patrick/projects/doc-chat/data/pdf/The Hundred-Page Machine Learning Book.pdf', 'total_pages': 152, 'page': 0, 'page_label': '1'}, page_content='The\\nHundred-\\nPage\\nMachine\\nLearning\\nBook\\nAndriy Burkov')"
      ]
     },
     "execution_count": 3,
     "metadata": {},
     "output_type": "execute_result"
    }
   ],
   "execution_count": 3
  },
  {
   "metadata": {
    "ExecuteTime": {
     "end_time": "2025-03-17T19:44:07.520627Z",
     "start_time": "2025-03-17T19:44:07.517737Z"
    }
   },
   "cell_type": "code",
   "source": [
    "# print first 300 characters of the third page\n",
    "documents[2].page_content[:300]"
   ],
   "id": "70fe79e5cf5a314c",
   "outputs": [
    {
     "data": {
      "text/plain": [
       "'Preface\\nLet’s start by telling the truth: machines don’t learn. What a typical “learning machine”\\ndoes, is ﬁnding a mathematical formula, which, when applied to a collection of inputs (called\\n“training data”), produces the desired outputs. This mathematical formula also generates the\\ncorrect outputs'"
      ]
     },
     "execution_count": 4,
     "metadata": {},
     "output_type": "execute_result"
    }
   ],
   "execution_count": 4
  },
  {
   "metadata": {
    "ExecuteTime": {
     "end_time": "2025-03-17T19:44:07.598433Z",
     "start_time": "2025-03-17T19:44:07.595993Z"
    }
   },
   "cell_type": "code",
   "source": [
    "# split format\n",
    "splits[0]"
   ],
   "id": "63125bc673e1b99d",
   "outputs": [
    {
     "data": {
      "text/plain": [
       "Document(metadata={'producer': '3-Heights(TM) PDF Optimization Shell 4.8.25.2 (http://www.pdf-tools.com)', 'creator': 'PyPDF', 'creationdate': '2018-12-18T05:07:46+00:00', 'moddate': '2019-01-22T19:51:34+00:00', 'source': '/Users/patrick/projects/doc-chat/data/pdf/The Hundred-Page Machine Learning Book.pdf', 'total_pages': 152, 'page': 0, 'page_label': '1'}, page_content='The\\nHundred-\\nPage\\nMachine\\nLearning\\nBook\\nAndriy Burkov')"
      ]
     },
     "execution_count": 5,
     "metadata": {},
     "output_type": "execute_result"
    }
   ],
   "execution_count": 5
  },
  {
   "metadata": {
    "ExecuteTime": {
     "end_time": "2025-03-17T19:44:07.642121Z",
     "start_time": "2025-03-17T19:44:07.639815Z"
    }
   },
   "cell_type": "code",
   "source": "splits[2].page_content",
   "id": "1b6bafe36143cc5f",
   "outputs": [
    {
     "data": {
      "text/plain": [
       "'Preface\\nLet’s start by telling the truth: machines don’t learn. What a typical “learning machine”\\ndoes, is ﬁnding a mathematical formula, which, when applied to a collection of inputs (called\\n“training data”), produces the desired outputs. This mathematical formula also generates the\\ncorrect outputs for most other inputs (distinct from the training data) on the condition that\\nthose inputs come from the same or a similar statistical distribution as the one the training\\ndata was drawn from.\\nWhy isn’t that learning? Because if you slightly distort the inputs, the output is very likely\\nto become completely wrong. It’s not how learning in animals works. If you learned to play\\na video game by looking straight at the screen, you would still be a good player if someone\\nrotates the screen slightly. A machine learning algorithm, if it was trained by “looking”\\nstraight at the screen, unless it was also trained to recognize rotation, will fail to play the\\ngame on a rotated screen.'"
      ]
     },
     "execution_count": 6,
     "metadata": {},
     "output_type": "execute_result"
    }
   ],
   "execution_count": 6
  },
  {
   "metadata": {
    "ExecuteTime": {
     "end_time": "2025-03-17T19:44:07.680041Z",
     "start_time": "2025-03-17T19:44:07.677360Z"
    }
   },
   "cell_type": "code",
   "source": "splits[3].page_content",
   "id": "97e6d7cfa59bfe48",
   "outputs": [
    {
     "data": {
      "text/plain": [
       "'straight at the screen, unless it was also trained to recognize rotation, will fail to play the\\ngame on a rotated screen.\\nSo why the name “machine learning” then? The reason, as is often the case, is marketing:\\nArthur Samuel, an American pioneer in the ﬁeld of computer gaming and artiﬁcial intelligence,\\ncoined the term in 1959 while at IBM. Similarly to how in the 2010s IBM tried to market\\nthe term “cognitive computing” to stand out from competition, in the 1960s, IBM used the\\nnew cool term “machine learning” to attract both clients and talented employees.\\nAs you can see, just like artiﬁcial intelligence is not intelligence, machine learning is not\\nlearning. However, machine learning is a universally recognized term that usually refers\\nto the science and engineering of building machines capable of doing various useful things\\nwithout being explicitly programmed to do so. So, the word “learning” in the term is used\\nby analogy with the learning in animals rather than literally.'"
      ]
     },
     "execution_count": 7,
     "metadata": {},
     "output_type": "execute_result"
    }
   ],
   "execution_count": 7
  },
  {
   "metadata": {
    "ExecuteTime": {
     "end_time": "2025-03-17T19:46:01.751028Z",
     "start_time": "2025-03-17T19:45:59.068136Z"
    }
   },
   "cell_type": "code",
   "source": [
    "# instantiate vector store\n",
    "vector_store = VectorStore(splits)"
   ],
   "id": "4c2e0a6938202300",
   "outputs": [],
   "execution_count": 10
  },
  {
   "metadata": {
    "ExecuteTime": {
     "end_time": "2025-03-17T19:48:32.782188Z",
     "start_time": "2025-03-17T19:48:31.115928Z"
    }
   },
   "cell_type": "code",
   "source": [
    "answer = vector_store.qa_chain(\"who is this book for?\", k=2)\n",
    "print(answer['result'])"
   ],
   "id": "5588f00f3ead90f0",
   "outputs": [
    {
     "name": "stdout",
     "output_type": "stream",
     "text": [
      " This book is for beginners in machine learning who want to gain a basic understanding of the field and for experienced practitioners looking for further self-improvement and direction in solving technical or business problems using machine learning techniques.\n"
     ]
    }
   ],
   "execution_count": 24
  },
  {
   "metadata": {
    "ExecuteTime": {
     "end_time": "2025-03-17T19:48:44.420305Z",
     "start_time": "2025-03-17T19:48:44.417561Z"
    }
   },
   "cell_type": "code",
   "source": [
    "source_docs = answer['source_documents']\n",
    "len(source_docs)"
   ],
   "id": "1b81c7305e0d0eba",
   "outputs": [
    {
     "data": {
      "text/plain": [
       "2"
      ]
     },
     "execution_count": 31,
     "metadata": {},
     "output_type": "execute_result"
    }
   ],
   "execution_count": 31
  },
  {
   "metadata": {
    "ExecuteTime": {
     "end_time": "2025-03-17T19:49:05.256520Z",
     "start_time": "2025-03-17T19:49:05.251718Z"
    }
   },
   "cell_type": "code",
   "source": "source_docs[0]",
   "id": "2f25c529077909ad",
   "outputs": [
    {
     "data": {
      "text/plain": [
       "Document(metadata={'creationdate': '2018-12-18T05:07:46+00:00', 'creator': 'PyPDF', 'moddate': '2019-01-22T19:51:34+00:00', 'page': 2, 'page_label': '3', 'producer': '3-Heights(TM) PDF Optimization Shell 4.8.25.2 (http://www.pdf-tools.com)', 'source': '/Users/patrick/projects/doc-chat/data/pdf/The Hundred-Page Machine Learning Book.pdf', 'total_pages': 152}, page_content='by analogy with the learning in animals rather than literally.\\nWho This Book is For\\nThis book contains only those parts of the vast body of material on machine learning developed\\nsince the 1960s that have proven to have a signiﬁcant practical value. A beginner in machine\\nlearning will ﬁnd in this book just enough details to get a comfortable level of understanding\\nof the ﬁeld and start asking the right questions.\\nPractitioners with experience can use this book as a collection of directions for further\\nself-improvement. The book also comes in handy when brainstorming at the beginning of a\\nproject, when you try to answer the question whether a given technical or business problem\\nis “machine-learnable” and, if yes, which techniques you should try to solve it.\\nHow to Use This Book\\nIf you are about to start learning machine learning, you should read this book from the\\nbeginning to the end. (It’s just a hundred pages, not a big deal.) If you are interested')"
      ]
     },
     "execution_count": 33,
     "metadata": {},
     "output_type": "execute_result"
    }
   ],
   "execution_count": 33
  },
  {
   "metadata": {
    "ExecuteTime": {
     "end_time": "2025-03-17T19:50:02.400672Z",
     "start_time": "2025-03-17T19:50:02.395687Z"
    }
   },
   "cell_type": "code",
   "source": "source_docs[0]",
   "id": "c93185f618c1a110",
   "outputs": [
    {
     "data": {
      "text/plain": [
       "Document(metadata={'creationdate': '2018-12-18T05:07:46+00:00', 'creator': 'PyPDF', 'moddate': '2019-01-22T19:51:34+00:00', 'page': 2, 'page_label': '3', 'producer': '3-Heights(TM) PDF Optimization Shell 4.8.25.2 (http://www.pdf-tools.com)', 'source': '/Users/patrick/projects/doc-chat/data/pdf/The Hundred-Page Machine Learning Book.pdf', 'total_pages': 152}, page_content='by analogy with the learning in animals rather than literally.\\nWho This Book is For\\nThis book contains only those parts of the vast body of material on machine learning developed\\nsince the 1960s that have proven to have a signiﬁcant practical value. A beginner in machine\\nlearning will ﬁnd in this book just enough details to get a comfortable level of understanding\\nof the ﬁeld and start asking the right questions.\\nPractitioners with experience can use this book as a collection of directions for further\\nself-improvement. The book also comes in handy when brainstorming at the beginning of a\\nproject, when you try to answer the question whether a given technical or business problem\\nis “machine-learnable” and, if yes, which techniques you should try to solve it.\\nHow to Use This Book\\nIf you are about to start learning machine learning, you should read this book from the\\nbeginning to the end. (It’s just a hundred pages, not a big deal.) If you are interested')"
      ]
     },
     "execution_count": 41,
     "metadata": {},
     "output_type": "execute_result"
    }
   ],
   "execution_count": 41
  }
 ],
 "metadata": {
  "kernelspec": {
   "name": "python3",
   "language": "python",
   "display_name": "Python 3 (ipykernel)"
  }
 },
 "nbformat": 5,
 "nbformat_minor": 9
}
